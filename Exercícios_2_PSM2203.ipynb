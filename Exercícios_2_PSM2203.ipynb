{
  "nbformat": 4,
  "nbformat_minor": 0,
  "metadata": {
    "colab": {
      "provenance": [],
      "include_colab_link": true
    },
    "kernelspec": {
      "name": "python3",
      "display_name": "Python 3"
    },
    "language_info": {
      "name": "python"
    }
  },
  "cells": [
    {
      "cell_type": "markdown",
      "metadata": {
        "id": "view-in-github",
        "colab_type": "text"
      },
      "source": [
        "<a href=\"https://colab.research.google.com/github/tamyrespereirasilva/exercicios-python/blob/main/Exerc%C3%ADcios_2_PSM2203.ipynb\" target=\"_parent\"><img src=\"https://colab.research.google.com/assets/colab-badge.svg\" alt=\"Open In Colab\"/></a>"
      ]
    },
    {
      "cell_type": "markdown",
      "source": [
        "\n",
        "\n",
        "---\n",
        "# Para praticar em sala de aula.\n",
        "\n",
        "\n",
        "---\n",
        "\n",
        "\n"
      ],
      "metadata": {
        "id": "wWq4Xh721azl"
      }
    },
    {
      "cell_type": "markdown",
      "source": [
        "## Loops, condicionais"
      ],
      "metadata": {
        "id": "ryLZSnnxNtvJ"
      }
    },
    {
      "cell_type": "markdown",
      "source": [
        "Exercício 1 - Crie uma estrutura que pergunte ao usuário qual o dia da semana. Se o dia for igual a Domingo ou igual a sábado, imprima na tela \"Hoje é dia de descanso\", caso contrário imprima na tela \"Você precisa trabalhar!\""
      ],
      "metadata": {
        "id": "L4nZz2BJNlhg"
      }
    },
    {
      "cell_type": "code",
      "source": [
        "dia = str(input(\"Qual o dia da semana? \\n\"))\n",
        "\n",
        "if (dia == \"Domingo\" or dia == \"Sábado\"):\n",
        "  print(\"Hoje é dia de descanso!\")\n",
        "else:\n",
        "  print(\"Você precisa trabalhar!\")\n"
      ],
      "metadata": {
        "colab": {
          "base_uri": "https://localhost:8080/"
        },
        "id": "-01Yh4OVjDq0",
        "outputId": "bab1a6ea-a8d7-4000-b8e2-aa20b9598002"
      },
      "execution_count": 12,
      "outputs": [
        {
          "output_type": "stream",
          "name": "stdout",
          "text": [
            "Qual o dia da semana? \n",
            "Domingo\n",
            "Hoje é dia de descanso!\n"
          ]
        }
      ]
    },
    {
      "cell_type": "markdown",
      "source": [
        "\n",
        "\n",
        "---\n",
        "\n"
      ],
      "metadata": {
        "id": "UX942kx22c5T"
      }
    },
    {
      "cell_type": "markdown",
      "source": [
        "Exercício 2 - Crie uma lista de 5 frutas e verifique se a fruta 'Morango' faz parte da lista"
      ],
      "metadata": {
        "id": "rNCCubfmO9OF"
      }
    },
    {
      "cell_type": "code",
      "source": [
        "frutas = [\"Cajá\", \"Banana\", \"Morango\", \"Maçã\", \"Uva\"]\n",
        "\n",
        "for fruta in frutas:\n",
        "    if fruta == \"Morango\":\n",
        "        print(\"Morango faz parte da lista.\")"
      ],
      "metadata": {
        "colab": {
          "base_uri": "https://localhost:8080/"
        },
        "id": "eWxrK4PBm6T4",
        "outputId": "37a3c775-cb07-48b8-f5c8-591f31a6213f"
      },
      "execution_count": 13,
      "outputs": [
        {
          "output_type": "stream",
          "name": "stdout",
          "text": [
            "Morango faz parte da lista.\n"
          ]
        }
      ]
    },
    {
      "cell_type": "markdown",
      "source": [
        "\n",
        "\n",
        "---\n",
        "\n"
      ],
      "metadata": {
        "id": "sSu-3L4QRNL7"
      }
    },
    {
      "cell_type": "markdown",
      "source": [
        "Exercício 3 - Crie uma tupla de 4 elementos, multiplique cada elemento da tupla por 2 e guarde os resultados em uma lista."
      ],
      "metadata": {
        "id": "QEV0LvzlPE1r"
      }
    },
    {
      "cell_type": "code",
      "source": [
        "t1 = (10, 20, 30, 40)\n",
        "listanova = []\n",
        "for i in t1:\n",
        "    novo_valor = i * 2\n",
        "    listanova.append(novo_valor)\n",
        "print(listanova)"
      ],
      "metadata": {
        "colab": {
          "base_uri": "https://localhost:8080/"
        },
        "id": "UBLGFvCrpDZ1",
        "outputId": "39c7040c-ace5-44fe-9733-5b1f831c4d5d"
      },
      "execution_count": 14,
      "outputs": [
        {
          "output_type": "stream",
          "name": "stdout",
          "text": [
            "[20, 40, 60, 80]\n"
          ]
        }
      ]
    },
    {
      "cell_type": "markdown",
      "source": [
        "\n",
        "\n",
        "---\n",
        "\n"
      ],
      "metadata": {
        "id": "KmsVcq3bROfT"
      }
    },
    {
      "cell_type": "markdown",
      "source": [
        "Exercício 4 - Crie uma sequência de números pares entre 100 e 150 e imprima na tela"
      ],
      "metadata": {
        "id": "A0e2OwttPKVz"
      }
    },
    {
      "cell_type": "code",
      "source": [
        "for x in range(100, 151, 2):\n",
        "    print(x)"
      ],
      "metadata": {
        "colab": {
          "base_uri": "https://localhost:8080/"
        },
        "id": "MoaLIJbbpnNr",
        "outputId": "010cb1f4-028d-48cf-d35d-1a32aee5c7bc"
      },
      "execution_count": 15,
      "outputs": [
        {
          "output_type": "stream",
          "name": "stdout",
          "text": [
            "100\n",
            "102\n",
            "104\n",
            "106\n",
            "108\n",
            "110\n",
            "112\n",
            "114\n",
            "116\n",
            "118\n",
            "120\n",
            "122\n",
            "124\n",
            "126\n",
            "128\n",
            "130\n",
            "132\n",
            "134\n",
            "136\n",
            "138\n",
            "140\n",
            "142\n",
            "144\n",
            "146\n",
            "148\n",
            "150\n"
          ]
        }
      ]
    },
    {
      "cell_type": "markdown",
      "source": [
        "\n",
        "\n",
        "---\n",
        "\n"
      ],
      "metadata": {
        "id": "FnpBriNaRQLR"
      }
    },
    {
      "cell_type": "markdown",
      "source": [
        "Exercício 5 - Crie uma variável chamada temperatura e atribua o valor 40. Enquanto temperatura for maior que 35, imprima as temperaturas na tela"
      ],
      "metadata": {
        "id": "ZUe6wbGkPNZJ"
      }
    },
    {
      "cell_type": "code",
      "source": [
        "temperatura = 40  \n",
        "\n",
        "while temperatura > 35: \n",
        "    print(temperatura)\n",
        "    temperatura = temperatura - 1"
      ],
      "metadata": {
        "colab": {
          "base_uri": "https://localhost:8080/"
        },
        "id": "H0cYFlfxpzh-",
        "outputId": "bc9b3e85-3038-4b76-a7a5-9a8def3fd8e6"
      },
      "execution_count": 16,
      "outputs": [
        {
          "output_type": "stream",
          "name": "stdout",
          "text": [
            "40\n",
            "39\n",
            "38\n",
            "37\n",
            "36\n"
          ]
        }
      ]
    },
    {
      "cell_type": "markdown",
      "source": [
        "\n",
        "\n",
        "---\n",
        "\n"
      ],
      "metadata": {
        "id": "LBwJe6mlRR45"
      }
    },
    {
      "cell_type": "markdown",
      "source": [
        "Exercício 6 - Crie uma variável chamada contador = 0. Enquanto counter for menor que 100, imprima os valores na tela, mas quando for encontrado o valor 23, interrompa a execução do programa"
      ],
      "metadata": {
        "id": "m9kpfHcrPRPo"
      }
    },
    {
      "cell_type": "code",
      "source": [
        "contador = 0\n",
        "\n",
        "while contador < 100:\n",
        "    if contador == 23:\n",
        "        break\n",
        "    print(contador)\n",
        "    contador += 1\n"
      ],
      "metadata": {
        "colab": {
          "base_uri": "https://localhost:8080/"
        },
        "id": "M2XiL6z2p9qB",
        "outputId": "88f63b09-a1d3-4773-c1d1-883863245eac"
      },
      "execution_count": 17,
      "outputs": [
        {
          "output_type": "stream",
          "name": "stdout",
          "text": [
            "0\n",
            "1\n",
            "2\n",
            "3\n",
            "4\n",
            "5\n",
            "6\n",
            "7\n",
            "8\n",
            "9\n",
            "10\n",
            "11\n",
            "12\n",
            "13\n",
            "14\n",
            "15\n",
            "16\n",
            "17\n",
            "18\n",
            "19\n",
            "20\n",
            "21\n",
            "22\n"
          ]
        }
      ]
    },
    {
      "cell_type": "markdown",
      "source": [
        "\n",
        "\n",
        "---\n",
        "\n"
      ],
      "metadata": {
        "id": "93_89q0XRTPs"
      }
    },
    {
      "cell_type": "markdown",
      "source": [
        "Exercício 7 - Crie uma lista vazia e uma variável com valor 4. Enquanto o valor da variável for menor ou igual a 20, adicione à lista, apenas os valores pares e imprima a lista"
      ],
      "metadata": {
        "id": "2TQeGQyePVWp"
      }
    },
    {
      "cell_type": "code",
      "source": [
        "umaLista = list()\n",
        "var = 4\n",
        "while (var <= 20):\n",
        "    umaLista.append(var)\n",
        "    var = var+2\n",
        "print(umaLista)"
      ],
      "metadata": {
        "colab": {
          "base_uri": "https://localhost:8080/"
        },
        "id": "YRm6OV7jqO4N",
        "outputId": "773213cd-7086-4eef-c1ac-6e1980026b61"
      },
      "execution_count": 20,
      "outputs": [
        {
          "output_type": "stream",
          "name": "stdout",
          "text": [
            "[4, 6, 8, 10, 12, 14, 16, 18, 20]\n"
          ]
        }
      ]
    },
    {
      "cell_type": "markdown",
      "source": [
        "\n",
        "\n",
        "---\n",
        "\n"
      ],
      "metadata": {
        "id": "HRfFfRalRUkn"
      }
    },
    {
      "cell_type": "markdown",
      "source": [
        "Exercício 8 - Transforme o resultado desta função range em uma lista: range(5, 45, 2)\n",
        "\n",
        "nums = range(5, 45, 2)"
      ],
      "metadata": {
        "id": "l5r3pH5JPZPR"
      }
    },
    {
      "cell_type": "code",
      "source": [
        "nums = range(5, 45, 2)\n",
        "print(list(nums))"
      ],
      "metadata": {
        "colab": {
          "base_uri": "https://localhost:8080/"
        },
        "id": "3DeD7iwDrxjk",
        "outputId": "9efc82ef-0966-4ca8-e2ec-1c7ec73aaa97"
      },
      "execution_count": 21,
      "outputs": [
        {
          "output_type": "stream",
          "name": "stdout",
          "text": [
            "[5, 7, 9, 11, 13, 15, 17, 19, 21, 23, 25, 27, 29, 31, 33, 35, 37, 39, 41, 43]\n"
          ]
        }
      ]
    },
    {
      "cell_type": "markdown",
      "source": [
        "\n",
        "\n",
        "---\n",
        "\n"
      ],
      "metadata": {
        "id": "Zl4Ik3cRRWAk"
      }
    },
    {
      "cell_type": "markdown",
      "source": [
        "Exercício 9 - Faça a correção dos erros no código abaixo e execute o programa. Dica: são 4 erros."
      ],
      "metadata": {
        "id": "iDkN7q_4PozB"
      }
    },
    {
      "cell_type": "markdown",
      "source": [
        "\n",
        "\n",
        "```\n",
        "temperatura = float(input(Qual a temperatura? ))\n",
        "if temperatura > 30\n",
        "print('Vista roupas leves.')\n",
        "else\n",
        "    print('Busque seus casacos.')\n",
        "```\n",
        "\n"
      ],
      "metadata": {
        "id": "vL0_e3E2Sie1"
      }
    },
    {
      "cell_type": "code",
      "source": [
        "temperatura - float(input(\"Qual a temperatura? \\n\"))\n",
        "if (temperatura > 30):\n",
        "  print(\"Vista roupas leves.\")\n",
        "else:\n",
        "  print(\"Busque seus casacos.\")"
      ],
      "metadata": {
        "colab": {
          "base_uri": "https://localhost:8080/"
        },
        "id": "nnIx-3ehsAKn",
        "outputId": "4a3c83e1-b5eb-41d3-faad-647977b3d3e9"
      },
      "execution_count": 22,
      "outputs": [
        {
          "output_type": "stream",
          "name": "stdout",
          "text": [
            "Qual a temperatura? \n",
            "35.0\n",
            "Vista roupas leves.\n"
          ]
        }
      ]
    },
    {
      "cell_type": "markdown",
      "source": [
        "\n",
        "\n",
        "---\n",
        "\n"
      ],
      "metadata": {
        "id": "k5VdPSiRRX6o"
      }
    },
    {
      "cell_type": "markdown",
      "source": [
        "Exercício 10 - Faça um programa que conte quantas vezes a letra \"r\" aparece na frase abaixo. \n",
        "\n",
        "“É melhor, muito melhor, contentar-se com a realidade; se ela não é tão brilhante como os sonhos, tem pelo menos a vantagem de existir.” (Machado de Assis)\n"
      ],
      "metadata": {
        "id": "bpfM8UE_P5hF"
      }
    },
    {
      "cell_type": "code",
      "source": [
        "frase = \"É melhor, muito melhor, contentar-se com a realidade; se ela não é tão brilhante como os sonhos, tem pelo menos a vantagem de existir.\"\n",
        "count = 0\n",
        "\n",
        "for x in frase:\n",
        "    if x == 'r':\n",
        "        count += 1\n",
        "print(\"A letra r aparece %s vezes na frase.\" %(count))\n"
      ],
      "metadata": {
        "id": "zp8g49RkUc8L",
        "colab": {
          "base_uri": "https://localhost:8080/"
        },
        "outputId": "cf661f95-ab25-49db-ffec-1852f88efc27"
      },
      "execution_count": 23,
      "outputs": [
        {
          "output_type": "stream",
          "name": "stdout",
          "text": [
            "A letra r aparece 6 vezes na frase.\n"
          ]
        }
      ]
    },
    {
      "cell_type": "markdown",
      "source": [
        "Exercício 11 - Considere a lista abaixo e retorne apenas os elementos cujo índice for maior que 5.\n",
        "\n",
        "lista = ['a', 'b', 'c', 'd', 'e', 'f', 'g', 'h']"
      ],
      "metadata": {
        "id": "RG7vmxosUdo2"
      }
    },
    {
      "cell_type": "code",
      "source": [
        "lista = ['a', 'b', 'c', 'd', 'e', 'f', 'g', 'h']\n",
        "for indice in range(len(lista)):\n",
        "  if indice>5:\n",
        "    print(lista[indice])"
      ],
      "metadata": {
        "colab": {
          "base_uri": "https://localhost:8080/"
        },
        "id": "1oOXRzppK3q3",
        "outputId": "0728d091-3e22-4253-ba09-cb3154319cda"
      },
      "execution_count": 24,
      "outputs": [
        {
          "output_type": "stream",
          "name": "stdout",
          "text": [
            "g\n",
            "h\n"
          ]
        }
      ]
    },
    {
      "cell_type": "markdown",
      "source": [
        "Exercício 12 - Crie um terceiro dicionário com as chaves do dicionário 1 e os valores do dicionário 2 abaixo. \n",
        "\n",
        "dict1 = {'a':1,'b':2}\n",
        "dict2 = {'c':4,'d':5}"
      ],
      "metadata": {
        "id": "8GuNEVzeU_ab"
      }
    },
    {
      "cell_type": "code",
      "source": [
        "dict1 = {'a':1,'b':2} \n",
        "dict2 = {'c':4,'d':5}\n",
        "\n",
        "dict3 = {**dict1, **dict2}\n",
        "print(dict3)"
      ],
      "metadata": {
        "colab": {
          "base_uri": "https://localhost:8080/"
        },
        "id": "Mz2Oiy5Jtn_2",
        "outputId": "1186aa73-3425-4bce-b412-116e2282c723"
      },
      "execution_count": 27,
      "outputs": [
        {
          "output_type": "stream",
          "name": "stdout",
          "text": [
            "{'a': 1, 'b': 2, 'c': 4, 'd': 5}\n"
          ]
        }
      ]
    },
    {
      "cell_type": "markdown",
      "source": [
        "\n",
        "\n",
        "---\n",
        "\n"
      ],
      "metadata": {
        "id": "uqQkSWsTRZMu"
      }
    }
  ]
}