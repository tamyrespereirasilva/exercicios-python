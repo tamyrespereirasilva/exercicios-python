{
  "nbformat": 4,
  "nbformat_minor": 0,
  "metadata": {
    "colab": {
      "provenance": [],
      "authorship_tag": "ABX9TyNiOZcDqUNa0mrUOZW5OwFl",
      "include_colab_link": true
    },
    "kernelspec": {
      "name": "python3",
      "display_name": "Python 3"
    },
    "language_info": {
      "name": "python"
    }
  },
  "cells": [
    {
      "cell_type": "markdown",
      "metadata": {
        "id": "view-in-github",
        "colab_type": "text"
      },
      "source": [
        "<a href=\"https://colab.research.google.com/github/tamyrespereirasilva/exercicios-python/blob/main/Exerc%C3%ADcios_de_Fixa%C3%A7%C3%A3o_em_Python.ipynb\" target=\"_parent\"><img src=\"https://colab.research.google.com/assets/colab-badge.svg\" alt=\"Open In Colab\"/></a>"
      ]
    },
    {
      "cell_type": "markdown",
      "source": [
        "**Questão 1 -** \n",
        "*Escreva a expressão 5𝑥2 + 7𝑥 − 1 na linguagem de programação Python,\n",
        "onde x é uma variável inteira e atribua valores para x para verificar o\n",
        "resultado da expressão.*\n",
        "\n",
        "\n"
      ],
      "metadata": {
        "id": "OL8Axl1v5rqT"
      }
    },
    {
      "cell_type": "code",
      "source": [
        "x = int(input(\"Digite um número: \\n\"))\n",
        "\n",
        "if(x > 0): \n",
        "  expressao = 5 * (x ** 2)+ 7*x -1\n",
        "\n",
        "print(\"O Resultado é {}\".format(expressao))\n"
      ],
      "metadata": {
        "colab": {
          "base_uri": "https://localhost:8080/"
        },
        "id": "S7a4B-yu5wcj",
        "outputId": "e95eb2c9-6194-4673-84f3-5bc925932ef1"
      },
      "execution_count": null,
      "outputs": [
        {
          "output_type": "stream",
          "name": "stdout",
          "text": [
            "Digite um número: \n",
            "5\n",
            "O Resultado é 159\n"
          ]
        }
      ]
    },
    {
      "cell_type": "markdown",
      "source": [],
      "metadata": {
        "id": "CCeWy4o6G2mB"
      }
    },
    {
      "cell_type": "markdown",
      "source": [
        "**Questão 2 -** *Acrescente parênteses à expressão 6 ∗ 1 − 2 para mudar o seu valor de 4\n",
        "para -6, no Python.*"
      ],
      "metadata": {
        "id": "1-c-HRkK50Pa"
      }
    },
    {
      "cell_type": "code",
      "source": [
        "x = 6*(1 -2)\n",
        "print(x)"
      ],
      "metadata": {
        "id": "nja8aKyk53LC"
      },
      "execution_count": null,
      "outputs": []
    },
    {
      "cell_type": "markdown",
      "source": [
        "**Questão 3 -** *Faça um algoritmo que calcule o quadrado da soma de dois inteiros.*"
      ],
      "metadata": {
        "id": "NDXZzHHA57wj"
      }
    },
    {
      "cell_type": "code",
      "source": [
        "x = int(input(\"Digite um número: \\n\" ))\n",
        "y = int(input(\"Digite um número: \\n\" ))\n",
        "\n",
        "calc = (x+y)*(x+y)\n",
        "print(calc)"
      ],
      "metadata": {
        "colab": {
          "base_uri": "https://localhost:8080/"
        },
        "id": "dbf87Tsk5-Gq",
        "outputId": "bc82bf8a-f150-4c63-ee08-a754c8674a65"
      },
      "execution_count": null,
      "outputs": [
        {
          "output_type": "stream",
          "name": "stdout",
          "text": [
            "Digite um número: \n",
            "2\n",
            "Digite um número: \n",
            "2\n",
            "16\n"
          ]
        }
      ]
    },
    {
      "cell_type": "markdown",
      "source": [
        "**Questão 4 -** *Peça dois números ao usuário e pergunte qual operação ele deseja fazer,\n",
        "deixe que seu programa execute a operação escolhida pelo usuário: soma,\n",
        "subtração, multiplicação e divisão.*"
      ],
      "metadata": {
        "id": "w221Ulp_6BIC"
      }
    },
    {
      "cell_type": "code",
      "source": [
        "n1 = int(input(\"Digite um número: \\n\" ))\n",
        "n2 = int(input(\"Digite um número: \\n\" ))\n",
        "operacao = int(input(\"\"\"\n",
        "+==================================+\n",
        "|       Escolha uma opcão:         |\n",
        "|         1 - Soma                 |\n",
        "|         2 - Subtração            |\n",
        "|         3 - Multiplicação        |\n",
        "|         4 - Divisão              |\n",
        "+==================================+\\n\\n\"\"\"))\n",
        "\n",
        "if (operacao == 1) :\n",
        "  print(\"O resultado é: \", n1+n2)\n",
        "elif (operacao == 2) :\n",
        "  print(\"O resultado é: \", n1-n2)\n",
        "elif (operacao == 3) :\n",
        "  print(\"O resultado é: \", n1*n2)\n",
        "elif (operacao == 4) :   \n",
        "  print(\"O resultado é: \", n1/n2)\n",
        "else:\n",
        "  print(\"Opção inválida! Tente novamente.\")\n"
      ],
      "metadata": {
        "colab": {
          "base_uri": "https://localhost:8080/"
        },
        "id": "d3lTvjrp6DkL",
        "outputId": "72be4dcd-ea8b-4ec1-873d-5eb029eed552"
      },
      "execution_count": null,
      "outputs": [
        {
          "output_type": "stream",
          "name": "stdout",
          "text": [
            "Digite um número: \n",
            "5\n",
            "Digite um número: \n",
            "9\n",
            "\n",
            "+==================================+\n",
            "|       Escolha uma opcão:         |\n",
            "|         1 - Soma                 |\n",
            "|         2 - Subtração            |\n",
            "|         3 - Multiplicação        |\n",
            "|         4 - Divisão              |\n",
            "+==================================+\n",
            "\n",
            "1\n",
            "O resultado é:  14\n"
          ]
        }
      ]
    },
    {
      "cell_type": "markdown",
      "source": [
        "**Questão 5 -** *Calcule a média de aluno em que somente a segunda nota tem peso 2.*"
      ],
      "metadata": {
        "id": "XbUXPy9y6Gui"
      }
    },
    {
      "cell_type": "code",
      "source": [
        "nota1 = int(input(\"Digite uma nota: \\n\" ))\n",
        "nota2 = int(input(\"Digite outra nota: \\n\" ))\n",
        "nota3 = int(input(\"Digite mais uma nota: \\n\" ))\n",
        "\n",
        "media = (nota1 + (nota2*2)+nota3)/4\n",
        "print(media)"
      ],
      "metadata": {
        "colab": {
          "base_uri": "https://localhost:8080/"
        },
        "id": "Zi7H5XQG6LCa",
        "outputId": "bc7d4a9e-5d60-4d17-bebe-bdee0b884edf"
      },
      "execution_count": null,
      "outputs": [
        {
          "output_type": "stream",
          "name": "stdout",
          "text": [
            "Digite uma nota: \n",
            "5\n",
            "Digite outra nota: \n",
            "7\n",
            "Digite mais uma nota: \n",
            "6\n",
            "6.25\n"
          ]
        }
      ]
    },
    {
      "cell_type": "markdown",
      "source": [
        "**Questão 6 -** *Escreva um programa em Python que atribui o valor 10000 para a variável P,\n",
        "atribui para n o valor 12 e atribui para r a taxa de juros de 8% (0.08). O programa\n",
        "deve pedir ao usuário o número t de anos. Calcule e imprima o valor final depois\n",
        "de t anos.*"
      ],
      "metadata": {
        "id": "yb9ndHKC6NTq"
      }
    },
    {
      "cell_type": "code",
      "source": [
        "p = 10000\n",
        "n = 12\n",
        "r = 0.08\n",
        "t = int(input())\n",
        "A = p*(1+(r/n))**(n*t)\n",
        "print(\"%.2f\" %A)"
      ],
      "metadata": {
        "colab": {
          "base_uri": "https://localhost:8080/"
        },
        "id": "zhSTS3vW6Tmq",
        "outputId": "7c3c5abf-064c-4d4a-f0bb-871c3b570a31"
      },
      "execution_count": null,
      "outputs": [
        {
          "output_type": "stream",
          "name": "stdout",
          "text": [
            "5\n",
            "14898.46\n"
          ]
        }
      ]
    },
    {
      "cell_type": "markdown",
      "source": [
        "**Questão 7 -** *Escreva um programa que calcula a área do círculo. O programa deve pedir\n",
        "ao usuário que entre com o valor do raio. Em seguida o programa deve imprimir\n",
        "uma mensagem com a resposta.*"
      ],
      "metadata": {
        "id": "OcbCEnEp6WMC"
      }
    },
    {
      "cell_type": "code",
      "source": [
        "r = float(input(\"Insira a área do círculo: \\n\"))\n",
        "pi = 3.14\n",
        "area = ((pi)*(r*r))\n",
        "print(\"A área do círculo é: \", area)"
      ],
      "metadata": {
        "colab": {
          "base_uri": "https://localhost:8080/"
        },
        "id": "72lBpWK96ZbC",
        "outputId": "a6274cc3-595c-4388-803e-123dd0483bf3"
      },
      "execution_count": null,
      "outputs": [
        {
          "output_type": "stream",
          "name": "stdout",
          "text": [
            "Insira a área do círculo: \n",
            "5\n",
            "A área do círculo é:  78.5\n"
          ]
        }
      ]
    },
    {
      "cell_type": "markdown",
      "source": [
        "**Questão 8 -** *Escreva um programa que converta uma temperatura de graus Celsius para\n",
        "Fahrenheit.*"
      ],
      "metadata": {
        "id": "Cs5Gj0bq6a7S"
      }
    },
    {
      "cell_type": "code",
      "source": [
        "print('-----Programa para Conversão de Temperatura-----')\n",
        "print('----- Converter de Celsius para Fahrenheit -----\\n')\n",
        "\n",
        "C = float(input('Entre com a temperatura em graus Celsius: '))\n",
        "\n",
        "if (C > 0):\n",
        "  F = C * (9 / 5) + 32\n",
        "    \n",
        "print('Valor em Fahrenheit: {0}°F'.format(F))\n"
      ],
      "metadata": {
        "id": "pfci8rUR6dlC"
      },
      "execution_count": null,
      "outputs": []
    },
    {
      "cell_type": "markdown",
      "source": [
        "**Questão 9 -** *Escreva um programa que calcula o consumo de gasolina de um carro em\n",
        "quilômetros por litro. O programa deve pedir ao usuário que entre com o\n",
        "número de quilômetros percorridos e o número de litros de gasolina\n",
        "consumidos. Em seguida o programa deve imprimir a resposta.*"
      ],
      "metadata": {
        "id": "IsbOwsN66gBD"
      }
    },
    {
      "cell_type": "code",
      "source": [
        "km = float(input(\"KMs percorridos: \"))\n",
        "L = float(input(\"Litros: \"))\n",
        "\n",
        "gasto = km/L\n",
        "print(\"Seu consumo é {}Km/L\".format(gasto))"
      ],
      "metadata": {
        "colab": {
          "base_uri": "https://localhost:8080/"
        },
        "id": "-STRavBX6jQr",
        "outputId": "d7977cd2-0f42-4a45-959b-bd257142755b"
      },
      "execution_count": null,
      "outputs": [
        {
          "output_type": "stream",
          "name": "stdout",
          "text": [
            "KMs percorridos: 10\n",
            "Litros: 5\n",
            "Seu consumo é 2.0Km/L\n"
          ]
        }
      ]
    },
    {
      "cell_type": "markdown",
      "source": [
        "**Questão 10 -** *Considere a frase: \"Eu serei um cientista de dados!\". Armazene cada\n",
        "palavra em uma variável, então imprima a frase em uma linha usando a\n",
        "função print.*"
      ],
      "metadata": {
        "id": "3FHiNJCA6n4j"
      }
    },
    {
      "cell_type": "code",
      "source": [
        "a = \"Eu\"\n",
        "b = \"serei\"\n",
        "c = \"um\"\n",
        "d = \"cientista\"\n",
        "e = \"de\"\n",
        "f = \"dados!\"\n",
        "\n",
        "print(a, b, c, d, e, f)"
      ],
      "metadata": {
        "id": "Lei9y-iP6qpz"
      },
      "execution_count": null,
      "outputs": []
    }
  ]
}