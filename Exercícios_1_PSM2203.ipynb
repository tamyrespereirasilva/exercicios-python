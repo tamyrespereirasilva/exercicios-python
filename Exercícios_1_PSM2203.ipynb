{
  "nbformat": 4,
  "nbformat_minor": 0,
  "metadata": {
    "colab": {
      "provenance": [],
      "include_colab_link": true
    },
    "kernelspec": {
      "name": "python3",
      "display_name": "Python 3"
    },
    "language_info": {
      "name": "python"
    }
  },
  "cells": [
    {
      "cell_type": "markdown",
      "metadata": {
        "id": "view-in-github",
        "colab_type": "text"
      },
      "source": [
        "<a href=\"https://colab.research.google.com/github/tamyrespereirasilva/exercicios-python/blob/main/Exerc%C3%ADcios_1_PSM2203.ipynb\" target=\"_parent\"><img src=\"https://colab.research.google.com/assets/colab-badge.svg\" alt=\"Open In Colab\"/></a>"
      ]
    },
    {
      "cell_type": "markdown",
      "source": [
        "\n",
        "\n",
        "---\n",
        "# Para praticar em sala de aula.\n",
        "\n",
        "\n",
        "---\n",
        "\n",
        "\n"
      ],
      "metadata": {
        "id": "wWq4Xh721azl"
      }
    },
    {
      "cell_type": "markdown",
      "source": [
        "## Listas, Dicionários e Tuplas"
      ],
      "metadata": {
        "id": "fAV9-vbzN0Im"
      }
    },
    {
      "cell_type": "markdown",
      "source": [
        "Exercício 1 - Imprima na tela os números de 1 a 10. Use uma lista para armazenar os números."
      ],
      "metadata": {
        "id": "_bliVrCJL5FT"
      }
    },
    {
      "cell_type": "code",
      "source": [
        "minhaLista = []\n",
        "\n",
        "for x in range(11):\n",
        "  minhaLista.append(x)\n",
        "print(minhaLista)"
      ],
      "metadata": {
        "id": "jyWAYxUPDgDq",
        "colab": {
          "base_uri": "https://localhost:8080/"
        },
        "outputId": "979dc3fa-848b-454f-d084-87783feedde5"
      },
      "execution_count": 1,
      "outputs": [
        {
          "output_type": "stream",
          "name": "stdout",
          "text": [
            "[0, 1, 2, 3, 4, 5, 6, 7, 8, 9, 10]\n"
          ]
        }
      ]
    },
    {
      "cell_type": "markdown",
      "source": [
        "\n",
        "\n",
        "---\n"
      ],
      "metadata": {
        "id": "TcBcmJdl1-JZ"
      }
    },
    {
      "cell_type": "markdown",
      "source": [
        "Exercício 2 - Crie uma lista de 5 objetos e imprima na tela"
      ],
      "metadata": {
        "id": "ns2hZ8cwMAYQ"
      }
    },
    {
      "cell_type": "code",
      "source": [
        "outraLista = [\"Cadeira\", \"Mesa\", \"Escada\", \"Pote\", \"Faqueiro\"]\n",
        "print(outraLista)"
      ],
      "metadata": {
        "colab": {
          "base_uri": "https://localhost:8080/"
        },
        "id": "pQtrgUf809IK",
        "outputId": "9fea8fae-83ae-48fe-f56d-8b193397ba5d"
      },
      "execution_count": 2,
      "outputs": [
        {
          "output_type": "stream",
          "name": "stdout",
          "text": [
            "['Cadeira', 'Mesa', 'Escada', 'Pote', 'Faqueiro']\n"
          ]
        }
      ]
    },
    {
      "cell_type": "markdown",
      "source": [
        "\n",
        "\n",
        "---\n",
        "\n",
        "\n"
      ],
      "metadata": {
        "id": "yMUt89dU2GHC"
      }
    },
    {
      "cell_type": "markdown",
      "source": [
        "Exercício 3 - Crie duas strings e concatene as duas em uma terceira string"
      ],
      "metadata": {
        "id": "T2Nr4MLVMIzP"
      }
    },
    {
      "cell_type": "code",
      "source": [
        "string1 = \"Leite\"\n",
        "string2 = \"Condensado\"\n",
        "string3 = string1 + string2\n",
        "\n",
        "print(string3)\n",
        "\n"
      ],
      "metadata": {
        "id": "051TlLYHDjEh",
        "colab": {
          "base_uri": "https://localhost:8080/"
        },
        "outputId": "a94d4dbf-2212-4fa1-afed-a233e89111a4"
      },
      "execution_count": 3,
      "outputs": [
        {
          "output_type": "stream",
          "name": "stdout",
          "text": [
            "LeiteCondensado\n"
          ]
        }
      ]
    },
    {
      "cell_type": "markdown",
      "source": [
        "Exercício 4 - Crie uma tupla com os seguintes elementos: 1, 2, 2, 3, 4, 4, 4, 5 e depois utilize a função count do objeto tupla para verificar quantas vezes o número 4 aparece na tupla"
      ],
      "metadata": {
        "id": "8t7OqA6CMOpF"
      }
    },
    {
      "cell_type": "code",
      "source": [
        "umaTupla = (1, 2, 2, 3, 4, 4, 4, 5)\n",
        "umaTupla.count(4)"
      ],
      "metadata": {
        "colab": {
          "base_uri": "https://localhost:8080/"
        },
        "id": "b16W-TGw3Ar7",
        "outputId": "f093c408-cd61-4019-8595-fa6f454de318"
      },
      "execution_count": null,
      "outputs": [
        {
          "output_type": "execute_result",
          "data": {
            "text/plain": [
              "3"
            ]
          },
          "metadata": {},
          "execution_count": 15
        }
      ]
    },
    {
      "cell_type": "markdown",
      "source": [
        "\n",
        "\n",
        "---\n",
        "\n"
      ],
      "metadata": {
        "id": "veruuooc2Np_"
      }
    },
    {
      "cell_type": "markdown",
      "source": [
        "Exercício 5 - Crie um dicionário com 3 chaves e 3 valores e imprima na tela"
      ],
      "metadata": {
        "id": "h_z-BVz_MaCL"
      }
    },
    {
      "cell_type": "code",
      "source": [
        "meuDic = {\"Idade\": 28, \"Mês\": 7, \"Aniversário\":11}\n",
        "print(meuDic)"
      ],
      "metadata": {
        "id": "vH6MffuMDkbx",
        "colab": {
          "base_uri": "https://localhost:8080/"
        },
        "outputId": "502b6eb4-22db-448b-b183-1c90b3444468"
      },
      "execution_count": null,
      "outputs": [
        {
          "output_type": "stream",
          "name": "stdout",
          "text": [
            "{'Idade': 28, 'Mês': 7, 'Aniversário': 11}\n"
          ]
        }
      ]
    },
    {
      "cell_type": "markdown",
      "source": [
        "\n",
        "\n",
        "---\n",
        "\n"
      ],
      "metadata": {
        "id": "D0FEQYCc2QVU"
      }
    },
    {
      "cell_type": "markdown",
      "source": [
        "Exercício 6 - Adicione mais um elemento ao dicionário criado no exercício anterior e imprima na tela"
      ],
      "metadata": {
        "id": "h_CazgMqMhWy"
      }
    },
    {
      "cell_type": "code",
      "source": [
        "meuDic[\"Signo\"] = 69\n",
        "print(meuDic)"
      ],
      "metadata": {
        "id": "D0t39kAgDlCg",
        "colab": {
          "base_uri": "https://localhost:8080/"
        },
        "outputId": "52d55618-8b75-4ee9-d4f7-b0d0cd7d321e"
      },
      "execution_count": null,
      "outputs": [
        {
          "output_type": "stream",
          "name": "stdout",
          "text": [
            "{'Idade': 28, 'Mês': 7, 'Aniversário': 11, 'Signo': 69}\n"
          ]
        }
      ]
    },
    {
      "cell_type": "markdown",
      "source": [
        "\n",
        "\n",
        "---\n",
        "\n",
        "\n"
      ],
      "metadata": {
        "id": "VGQn6Isx2TEQ"
      }
    },
    {
      "cell_type": "markdown",
      "source": [
        "Exercício 7 - Crie um dicionário com 3 chaves e 3 valores. Um dos valores deve ser uma lista de 2 elementos numéricos. Imprima o dicionário na tela."
      ],
      "metadata": {
        "id": "hTga28-iMrP4"
      }
    },
    {
      "cell_type": "code",
      "source": [
        "outroDic = {\"Idade\": 28, \"Ano\": 1994, \"data\":[11, 7]}\n",
        "print(outroDic)"
      ],
      "metadata": {
        "id": "JPnks5BgDl7R",
        "colab": {
          "base_uri": "https://localhost:8080/"
        },
        "outputId": "431a60f6-7173-4bc3-b6a9-4f96fbeac494"
      },
      "execution_count": null,
      "outputs": [
        {
          "output_type": "stream",
          "name": "stdout",
          "text": [
            "{'Idade': 28, 'Ano': 1994, 'data': [11, 7]}\n"
          ]
        }
      ]
    },
    {
      "cell_type": "markdown",
      "source": [
        "\n",
        "\n",
        "---\n",
        "\n"
      ],
      "metadata": {
        "id": "1p3Z_7Wx2VWh"
      }
    },
    {
      "cell_type": "markdown",
      "source": [
        "Exercício 8 - Crie uma lista de 4 elementos. O primeiro elemento deve ser uma string, o segundo uma tupla de 2 elementos, o terceiro um dcionário com 2 chaves e 2 valores e o quarto elemento um valor do tipo float. Imprima a lista na tela."
      ],
      "metadata": {
        "id": "Ze2fr71KMxcU"
      }
    },
    {
      "cell_type": "code",
      "source": [
        "tLista = [\"Data\", (11, 7), {\"Idade\": 28, \"Ano\": 1994,}, 1.58]\n",
        "print(tLista)\n"
      ],
      "metadata": {
        "id": "CEHUBvI0Dmew",
        "colab": {
          "base_uri": "https://localhost:8080/"
        },
        "outputId": "99afafe0-44ec-4647-b482-858029ca2a2a"
      },
      "execution_count": null,
      "outputs": [
        {
          "output_type": "stream",
          "name": "stdout",
          "text": [
            "['Data', (11, 7), {'Idade': 28, 'Ano': 1994}, 1.58]\n"
          ]
        }
      ]
    },
    {
      "cell_type": "markdown",
      "source": [
        "\n",
        "\n",
        "---\n",
        "\n",
        "\n"
      ],
      "metadata": {
        "id": "xR0nWd742YOB"
      }
    },
    {
      "cell_type": "markdown",
      "source": [
        "Exercício 9 - Considere a string abaixo. Imprima na tela apenas os caracteres da posição 1 a 18.\n",
        "\n",
        "frase = 'Cientista de Dados é o profissional mais sexy do século XXI'"
      ],
      "metadata": {
        "id": "iTI2M7p0M9zz"
      }
    },
    {
      "cell_type": "code",
      "source": [
        "frase = \"Cientista de Dados é o profissional mais sexy do século XXI\"\n",
        "print(frase[1:19])"
      ],
      "metadata": {
        "id": "851WwJP8DnKY",
        "colab": {
          "base_uri": "https://localhost:8080/"
        },
        "outputId": "57a77853-a70b-46f3-d0c5-907cc7ae80db"
      },
      "execution_count": null,
      "outputs": [
        {
          "output_type": "stream",
          "name": "stdout",
          "text": [
            "ientista de Dados \n"
          ]
        }
      ]
    },
    {
      "cell_type": "markdown",
      "source": [
        "\n",
        "\n",
        "---\n",
        "\n"
      ],
      "metadata": {
        "id": "xZKi0Hz22a0o"
      }
    },
    {
      "cell_type": "markdown",
      "source": [
        "Exercício 10 - Crie uma lista de 3 elementos e calcule a terceira potência de cada elemento."
      ],
      "metadata": {
        "id": "_02X8B8nRDq9"
      }
    },
    {
      "cell_type": "code",
      "source": [
        "mLista = [2, 4, 6]\n",
        "\n",
        "for x in mLista:\n",
        "  print(x**3)\n"
      ],
      "metadata": {
        "id": "1rXA1tPUfKi4",
        "colab": {
          "base_uri": "https://localhost:8080/"
        },
        "outputId": "0c429b40-40fc-4645-a4b7-b99e050872bc"
      },
      "execution_count": null,
      "outputs": [
        {
          "output_type": "stream",
          "name": "stdout",
          "text": [
            "8\n",
            "64\n",
            "216\n"
          ]
        }
      ]
    },
    {
      "cell_type": "markdown",
      "source": [
        "Exercício11 - Faça um programa que leia dois vetores com 10 elementos cada, gere um terceiro vetor de 20 elementos, cujos valores deverão ser compostos pelos elementos intercalados dos dois outros vetores."
      ],
      "metadata": {
        "id": "WCXL15-xR21a"
      }
    },
    {
      "cell_type": "code",
      "source": [
        "lista1 = list(range(10))\n",
        "lista2 = list(range(10))\n",
        "lista3 = []\n",
        "    \n",
        "for elemento in range(0, 10):\n",
        "    lista3.append(lista1[elemento])\n",
        "    lista3.append(lista2[elemento])\n",
        "\n",
        "print(lista3)"
      ],
      "metadata": {
        "id": "5U-OVxCdfLUb",
        "colab": {
          "base_uri": "https://localhost:8080/"
        },
        "outputId": "18509c7d-63c5-40e9-e95c-65459ad1875d"
      },
      "execution_count": null,
      "outputs": [
        {
          "output_type": "stream",
          "name": "stdout",
          "text": [
            "[0, 0, 1, 1, 2, 2, 3, 3, 4, 4, 5, 5, 6, 6, 7, 7, 8, 8, 9, 9]\n"
          ]
        }
      ]
    }
  ]
}